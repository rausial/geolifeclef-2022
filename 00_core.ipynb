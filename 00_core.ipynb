{
 "cells": [
  {
   "cell_type": "code",
   "execution_count": null,
   "metadata": {},
   "outputs": [],
   "source": [
    "# default_exp core"
   ]
  },
  {
   "cell_type": "markdown",
   "metadata": {},
   "source": [
    "# module name here\n",
    "\n",
    "> API details."
   ]
  },
  {
   "cell_type": "code",
   "execution_count": null,
   "metadata": {},
   "outputs": [],
   "source": [
    "#hide\n",
    "from nbdev.showdoc import *"
   ]
  },
  {
   "cell_type": "code",
   "execution_count": null,
   "metadata": {},
   "outputs": [],
   "source": [
    "import os\n",
    "from pathlib import Path\n",
    "\n",
    "import pandas as pd\n",
    "from fastai.vision.all import *\n",
    "\n",
    "# Create the path to save submission files\n",
    "SUBMISSION_PATH = Path(\"submissions\")\n",
    "os.makedirs(SUBMISSION_PATH, exist_ok=True)"
   ]
  },
  {
   "cell_type": "code",
   "execution_count": null,
   "metadata": {},
   "outputs": [],
   "source": [
    "DATA_PATH = Path('/storage/geolifeclef-2022/')"
   ]
  },
  {
   "cell_type": "code",
   "execution_count": null,
   "metadata": {},
   "outputs": [],
   "source": [
    "#exports\n",
    "\n",
    "def load_train_data(data_path):\n",
    "    df_obs_fr = pd.read_csv(data_path / \"observations\" / \"observations_fr_train.csv\", sep=\";\", index_col=\"observation_id\")\n",
    "    df_obs_us = pd.read_csv(data_path / \"observations\" / \"observations_us_train.csv\", sep=\";\", index_col=\"observation_id\")\n",
    "    return pd.concat((df_obs_fr, df_obs_us))\n",
    "    \n",
    "def load_test_data(data_path):\n",
    "    df_obs_fr_test = pd.read_csv(data_path / \"observations\" / \"observations_fr_test.csv\", sep=\";\", index_col=\"observation_id\")\n",
    "    df_obs_us_test = pd.read_csv(data_path / \"observations\" / \"observations_us_test.csv\", sep=\";\", index_col=\"observation_id\")\n",
    "\n",
    "    return pd.concat((df_obs_fr_test, df_obs_us_test))\n",
    "\n"
   ]
  },
  {
   "cell_type": "code",
   "execution_count": null,
   "metadata": {},
   "outputs": [],
   "source": [
    "df_obs = load_train_data(DATA_PATH)"
   ]
  },
  {
   "cell_type": "code",
   "execution_count": null,
   "metadata": {},
   "outputs": [
    {
     "data": {
      "text/html": [
       "<div>\n",
       "<style scoped>\n",
       "    .dataframe tbody tr th:only-of-type {\n",
       "        vertical-align: middle;\n",
       "    }\n",
       "\n",
       "    .dataframe tbody tr th {\n",
       "        vertical-align: top;\n",
       "    }\n",
       "\n",
       "    .dataframe thead th {\n",
       "        text-align: right;\n",
       "    }\n",
       "</style>\n",
       "<table border=\"1\" class=\"dataframe\">\n",
       "  <thead>\n",
       "    <tr style=\"text-align: right;\">\n",
       "      <th></th>\n",
       "      <th>latitude</th>\n",
       "      <th>longitude</th>\n",
       "      <th>species_id</th>\n",
       "      <th>subset</th>\n",
       "    </tr>\n",
       "    <tr>\n",
       "      <th>observation_id</th>\n",
       "      <th></th>\n",
       "      <th></th>\n",
       "      <th></th>\n",
       "      <th></th>\n",
       "    </tr>\n",
       "  </thead>\n",
       "  <tbody>\n",
       "    <tr>\n",
       "      <th>10561949</th>\n",
       "      <td>45.705116</td>\n",
       "      <td>1.424622</td>\n",
       "      <td>241</td>\n",
       "      <td>train</td>\n",
       "    </tr>\n",
       "    <tr>\n",
       "      <th>10131188</th>\n",
       "      <td>45.146973</td>\n",
       "      <td>6.416794</td>\n",
       "      <td>101</td>\n",
       "      <td>train</td>\n",
       "    </tr>\n",
       "    <tr>\n",
       "      <th>10799362</th>\n",
       "      <td>46.783695</td>\n",
       "      <td>-2.072855</td>\n",
       "      <td>700</td>\n",
       "      <td>train</td>\n",
       "    </tr>\n",
       "    <tr>\n",
       "      <th>10392536</th>\n",
       "      <td>48.604866</td>\n",
       "      <td>-2.825003</td>\n",
       "      <td>1456</td>\n",
       "      <td>train</td>\n",
       "    </tr>\n",
       "    <tr>\n",
       "      <th>10335049</th>\n",
       "      <td>48.815567</td>\n",
       "      <td>-0.161431</td>\n",
       "      <td>157</td>\n",
       "      <td>train</td>\n",
       "    </tr>\n",
       "  </tbody>\n",
       "</table>\n",
       "</div>"
      ],
      "text/plain": [
       "                 latitude  longitude  species_id subset\n",
       "observation_id                                         \n",
       "10561949        45.705116   1.424622         241  train\n",
       "10131188        45.146973   6.416794         101  train\n",
       "10799362        46.783695  -2.072855         700  train\n",
       "10392536        48.604866  -2.825003        1456  train\n",
       "10335049        48.815567  -0.161431         157  train"
      ]
     },
     "execution_count": null,
     "metadata": {},
     "output_type": "execute_result"
    }
   ],
   "source": [
    "df_obs.head()"
   ]
  },
  {
   "cell_type": "code",
   "execution_count": null,
   "metadata": {},
   "outputs": [],
   "source": [
    "#exports\n",
    "\n",
    "def rgb_patch_path(observation_id, patches_path=DATA_PATH):\n",
    "    \"\"\"Gets the rgb file path associated to an observation id\n",
    "\n",
    "    Parameters\n",
    "    ----------\n",
    "    observation_id : integer\n",
    "        Identifier of the observation.\n",
    "    patches_path : string / pathlib.Path\n",
    "        Path to the folder containing all the patches.\n",
    "\n",
    "    Returns\n",
    "    -------\n",
    "    patch_path : Path\n",
    "        Returns the path to the rgb patch\n",
    "    \"\"\"\n",
    "    observation_id = str(observation_id)\n",
    "\n",
    "    region_id = observation_id[0]\n",
    "    if region_id == \"1\":\n",
    "        region = \"patches-fr\"\n",
    "    elif region_id == \"2\":\n",
    "        region = \"patches-us\"\n",
    "    else:\n",
    "        raise ValueError(\n",
    "            \"Incorrect 'observation_id' {}, can not extract region id from it\".format(\n",
    "                observation_id\n",
    "            )\n",
    "        )\n",
    "\n",
    "    subfolder1 = observation_id[-2:]\n",
    "    subfolder2 = observation_id[-4:-2]\n",
    "\n",
    "    filename = Path(patches_path) / region / subfolder1 / subfolder2 / observation_id\n",
    "\n",
    "    patches = []\n",
    "\n",
    "    rgb_filename = filename.with_name(filename.stem + \"_rgb.jpg\")\n",
    "    return rgb_filename\n",
    "\n",
    "def near_ir_patch_path(observation_id, patches_path=DATA_PATH):\n",
    "    \"\"\"Loads the rgb patch data associated to an observation id\n",
    "\n",
    "    Parameters\n",
    "    ----------\n",
    "    observation_id : integer\n",
    "        Identifier of the observation.\n",
    "    patches_path : string / pathlib.Path\n",
    "        Path to the folder containing all the patches.\n",
    "\n",
    "    Returns\n",
    "    -------\n",
    "    patch_path : Path\n",
    "        Returns the path to the rgb patch\n",
    "    \"\"\"\n",
    "    observation_id = str(observation_id)\n",
    "\n",
    "    region_id = observation_id[0]\n",
    "    if region_id == \"1\":\n",
    "        region = \"patches-fr\"\n",
    "    elif region_id == \"2\":\n",
    "        region = \"patches-us\"\n",
    "    else:\n",
    "        raise ValueError(\n",
    "            \"Incorrect 'observation_id' {}, can not extract region id from it\".format(\n",
    "                observation_id\n",
    "            )\n",
    "        )\n",
    "\n",
    "    subfolder1 = observation_id[-2:]\n",
    "    subfolder2 = observation_id[-4:-2]\n",
    "\n",
    "    filename = Path(patches_path) / region / subfolder1 / subfolder2 / observation_id\n",
    "\n",
    "    near_ir_filename = filename.with_name(filename.stem + \"_near_ir.jpg\")\n",
    "    return near_ir_filename\n"
   ]
  },
  {
   "cell_type": "code",
   "execution_count": null,
   "metadata": {},
   "outputs": [],
   "source": [
    "#exports\n",
    "\n",
    "def get_rgb_x(r): return rgb_patch_path(r.name)\n",
    "def get_y(r): return r['species_id']\n",
    "\n",
    "\n",
    "def splitter(df):\n",
    "    train = list(df.index.get_indexer_for((df[df.subset == 'train'].index)))\n",
    "    valid = list(df.index.get_indexer_for((df[df.subset == 'val'].index)))\n",
    "    return train,valid"
   ]
  },
  {
   "cell_type": "code",
   "execution_count": null,
   "metadata": {},
   "outputs": [],
   "source": [
    "# exports\n",
    "def clean_obs_data(df):\n",
    "    df = df.drop(10284349)\n",
    "    \n",
    "    df_train = df[df.subset == 'train']\n",
    "    sp_ids = df_train.species_id.unique()\n",
    "    df_val = df[(df.subset == 'val') & df.species_id.isin(sp_ids)]\n",
    "    \n",
    "    return pd.concat([df_train, df_val])\n"
   ]
  },
  {
   "cell_type": "code",
   "execution_count": null,
   "metadata": {},
   "outputs": [],
   "source": [
    "df_obs = clean_obs_data(df_obs)"
   ]
  },
  {
   "cell_type": "code",
   "execution_count": null,
   "metadata": {},
   "outputs": [
    {
     "data": {
      "text/html": [
       "<div>\n",
       "<style scoped>\n",
       "    .dataframe tbody tr th:only-of-type {\n",
       "        vertical-align: middle;\n",
       "    }\n",
       "\n",
       "    .dataframe tbody tr th {\n",
       "        vertical-align: top;\n",
       "    }\n",
       "\n",
       "    .dataframe thead th {\n",
       "        text-align: right;\n",
       "    }\n",
       "</style>\n",
       "<table border=\"1\" class=\"dataframe\">\n",
       "  <thead>\n",
       "    <tr style=\"text-align: right;\">\n",
       "      <th></th>\n",
       "      <th>latitude</th>\n",
       "      <th>longitude</th>\n",
       "      <th>species_id</th>\n",
       "      <th>subset</th>\n",
       "    </tr>\n",
       "    <tr>\n",
       "      <th>observation_id</th>\n",
       "      <th></th>\n",
       "      <th></th>\n",
       "      <th></th>\n",
       "      <th></th>\n",
       "    </tr>\n",
       "  </thead>\n",
       "  <tbody>\n",
       "    <tr>\n",
       "      <th>10561949</th>\n",
       "      <td>45.705116</td>\n",
       "      <td>1.424622</td>\n",
       "      <td>241</td>\n",
       "      <td>train</td>\n",
       "    </tr>\n",
       "    <tr>\n",
       "      <th>10131188</th>\n",
       "      <td>45.146973</td>\n",
       "      <td>6.416794</td>\n",
       "      <td>101</td>\n",
       "      <td>train</td>\n",
       "    </tr>\n",
       "    <tr>\n",
       "      <th>10799362</th>\n",
       "      <td>46.783695</td>\n",
       "      <td>-2.072855</td>\n",
       "      <td>700</td>\n",
       "      <td>train</td>\n",
       "    </tr>\n",
       "    <tr>\n",
       "      <th>10392536</th>\n",
       "      <td>48.604866</td>\n",
       "      <td>-2.825003</td>\n",
       "      <td>1456</td>\n",
       "      <td>train</td>\n",
       "    </tr>\n",
       "    <tr>\n",
       "      <th>10335049</th>\n",
       "      <td>48.815567</td>\n",
       "      <td>-0.161431</td>\n",
       "      <td>157</td>\n",
       "      <td>train</td>\n",
       "    </tr>\n",
       "  </tbody>\n",
       "</table>\n",
       "</div>"
      ],
      "text/plain": [
       "                 latitude  longitude  species_id subset\n",
       "observation_id                                         \n",
       "10561949        45.705116   1.424622         241  train\n",
       "10131188        45.146973   6.416794         101  train\n",
       "10799362        46.783695  -2.072855         700  train\n",
       "10392536        48.604866  -2.825003        1456  train\n",
       "10335049        48.815567  -0.161431         157  train"
      ]
     },
     "execution_count": null,
     "metadata": {},
     "output_type": "execute_result"
    }
   ],
   "source": [
    "df_obs.head()"
   ]
  },
  {
   "cell_type": "code",
   "execution_count": null,
   "metadata": {},
   "outputs": [],
   "source": [
    "#export\n",
    "def build_learner(df, resnet=resnet34, bs=64):\n",
    "    \n",
    "    dblock = DataBlock(blocks=(ImageBlock, CategoryBlock),\n",
    "                       get_x=get_rgb_x, get_y=get_y,\n",
    "                       splitter=splitter)\n",
    "    dblock = dblock.new(batch_tfms=[Dihedral(), Brightness(), Contrast()])\n",
    "    dls = dblock.dataloaders(df, bs=bs)\n",
    "    \n",
    "    top_30_accuracy = partial(top_k_accuracy, k=30, axis=-1)\n",
    "    learn = cnn_learner(dls, resnet, metrics=top_30_accuracy,\n",
    "                        cbs=[EarlyStoppingCallback(patience=1), SaveModelCallback(with_opt=True)])\n",
    "    \n",
    "    return learn"
   ]
  },
  {
   "cell_type": "code",
   "execution_count": null,
   "metadata": {},
   "outputs": [],
   "source": [
    "learner = build_learner(df_obs)"
   ]
  },
  {
   "cell_type": "code",
   "execution_count": null,
   "metadata": {},
   "outputs": [
    {
     "data": {
      "text/html": [],
      "text/plain": [
       "<IPython.core.display.HTML object>"
      ]
     },
     "metadata": {},
     "output_type": "display_data"
    },
    {
     "data": {
      "image/png": "[encoded data removed]",
      "text/plain": [
       "<Figure size 432x288 with 1 Axes>"
      ]
     },
     "metadata": {
      "needs_background": "light"
     },
     "output_type": "display_data"
    }
   ],
   "source": [
    "lr_min,lr_steep = learner.lr_find(suggest_funcs=(minimum, steep))"
   ]
  },
  {
   "cell_type": "code",
   "execution_count": null,
   "metadata": {},
   "outputs": [],
   "source": []
  }
 ],
 "metadata": {
  "kernelspec": {
   "display_name": "Python 3 (ipykernel)",
   "language": "python",
   "name": "python3"
  }
 },
 "nbformat": 4,
 "nbformat_minor": 2
}
